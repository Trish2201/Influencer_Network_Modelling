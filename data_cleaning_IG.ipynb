{
 "cells": [
  {
   "cell_type": "code",
   "execution_count": 56,
   "metadata": {},
   "outputs": [
    {
     "name": "stdout",
     "output_type": "stream",
     "text": [
      "Requirement already satisfied: openpyxl in /opt/homebrew/lib/python3.11/site-packages (3.1.2)\n",
      "Requirement already satisfied: et-xmlfile in /opt/homebrew/lib/python3.11/site-packages (from openpyxl) (1.1.0)\n"
     ]
    }
   ],
   "source": [
    "# Import all necessary libraries\n",
    "import numpy as np\n",
    "import pandas as pd\n",
    "import matplotlib.pyplot as plt\n",
    "import seaborn as sns\n",
    "import os\n",
    "!pip install openpyxl --upgrade"
   ]
  },
  {
   "cell_type": "code",
   "execution_count": 57,
   "metadata": {},
   "outputs": [],
   "source": [
    "# We need to import the tab - Sprinklr Sample Data\n",
    "df = pd.read_excel('Users/trishitasingh/Downloads/Network Model Trial Mastersheet - Under Armour.xlsx', sheet_name='Sprinkr Sample Data')"
   ]
  },
  {
   "cell_type": "code",
   "execution_count": 58,
   "metadata": {},
   "outputs": [
    {
     "data": {
      "text/html": [
       "<div>\n",
       "<style scoped>\n",
       "    .dataframe tbody tr th:only-of-type {\n",
       "        vertical-align: middle;\n",
       "    }\n",
       "\n",
       "    .dataframe tbody tr th {\n",
       "        vertical-align: top;\n",
       "    }\n",
       "\n",
       "    .dataframe thead th {\n",
       "        text-align: right;\n",
       "    }\n",
       "</style>\n",
       "<table border=\"1\" class=\"dataframe\">\n",
       "  <thead>\n",
       "    <tr style=\"text-align: right;\">\n",
       "      <th></th>\n",
       "      <th>UniversalMessageId</th>\n",
       "      <th>SocialNetwork</th>\n",
       "      <th>SenderUserId</th>\n",
       "      <th>SenderScreenName</th>\n",
       "      <th>SenderListedName</th>\n",
       "      <th>SenderProfileImgUrl</th>\n",
       "      <th>SenderProfileLink</th>\n",
       "      <th>Sender Followers Count</th>\n",
       "      <th>SenderInfluencerScore</th>\n",
       "      <th>SenderAge</th>\n",
       "      <th>...</th>\n",
       "      <th>Location</th>\n",
       "      <th>Country</th>\n",
       "      <th>State</th>\n",
       "      <th>City</th>\n",
       "      <th>Latitude</th>\n",
       "      <th>Longitude</th>\n",
       "      <th>Sender Email</th>\n",
       "      <th>Message Type</th>\n",
       "      <th>CampaignName</th>\n",
       "      <th>Product Insights - 1</th>\n",
       "    </tr>\n",
       "  </thead>\n",
       "  <tbody>\n",
       "    <tr>\n",
       "      <th>0</th>\n",
       "      <td>INSTAGRAM_303_17965435721459435</td>\n",
       "      <td>INSTAGRAM</td>\n",
       "      <td>8743773905664507</td>\n",
       "      <td>2reallmr214iamdat</td>\n",
       "      <td>2REALL Mr214IAmDat</td>\n",
       "      <td>https://scontent-lga3-2.cdninstagram.com/v/t51...</td>\n",
       "      <td>https://instagram.com/2reallmr214iamdat</td>\n",
       "      <td>10508</td>\n",
       "      <td>0</td>\n",
       "      <td>0</td>\n",
       "      <td>...</td>\n",
       "      <td>NaN</td>\n",
       "      <td>Unknown</td>\n",
       "      <td>NaN</td>\n",
       "      <td>NaN</td>\n",
       "      <td>0</td>\n",
       "      <td>0</td>\n",
       "      <td>NaN</td>\n",
       "      <td>Instagram Mention</td>\n",
       "      <td>NaN</td>\n",
       "      <td>NaN</td>\n",
       "    </tr>\n",
       "    <tr>\n",
       "      <th>1</th>\n",
       "      <td>INSTAGRAM_311_18046773556425994</td>\n",
       "      <td>INSTAGRAM</td>\n",
       "      <td>blacksuccesstoday</td>\n",
       "      <td>blacksuccesstoday</td>\n",
       "      <td>Positive Black News</td>\n",
       "      <td>https://scontent-iad3-1.cdninstagram.com/v/t51...</td>\n",
       "      <td>https://instagram.com/blacksuccesstoday</td>\n",
       "      <td>197180</td>\n",
       "      <td>64</td>\n",
       "      <td>0</td>\n",
       "      <td>...</td>\n",
       "      <td>NaN</td>\n",
       "      <td>Unknown</td>\n",
       "      <td>NaN</td>\n",
       "      <td>NaN</td>\n",
       "      <td>0</td>\n",
       "      <td>0</td>\n",
       "      <td>NaN</td>\n",
       "      <td>Instagram Tagged Media</td>\n",
       "      <td>NaN</td>\n",
       "      <td>NaN</td>\n",
       "    </tr>\n",
       "    <tr>\n",
       "      <th>2</th>\n",
       "      <td>INSTAGRAM_303_17996040949705738</td>\n",
       "      <td>INSTAGRAM</td>\n",
       "      <td>ballersgetcontracts</td>\n",
       "      <td>ballersgetcontracts</td>\n",
       "      <td>Ballers Get Contracts 📝📝📝</td>\n",
       "      <td>https://scontent-iad3-1.cdninstagram.com/v/t51...</td>\n",
       "      <td>https://instagram.com/ballersgetcontracts</td>\n",
       "      <td>24480</td>\n",
       "      <td>0</td>\n",
       "      <td>0</td>\n",
       "      <td>...</td>\n",
       "      <td>NaN</td>\n",
       "      <td>Unknown</td>\n",
       "      <td>NaN</td>\n",
       "      <td>NaN</td>\n",
       "      <td>0</td>\n",
       "      <td>0</td>\n",
       "      <td>NaN</td>\n",
       "      <td>Instagram Mention</td>\n",
       "      <td>NaN</td>\n",
       "      <td>NaN</td>\n",
       "    </tr>\n",
       "    <tr>\n",
       "      <th>3</th>\n",
       "      <td>INSTAGRAM_37_18014653372523350</td>\n",
       "      <td>INSTAGRAM</td>\n",
       "      <td>_cala1</td>\n",
       "      <td>_cala1</td>\n",
       "      <td>NaN</td>\n",
       "      <td>NaN</td>\n",
       "      <td>https://instagram.com/_cala1</td>\n",
       "      <td>0</td>\n",
       "      <td>0</td>\n",
       "      <td>0</td>\n",
       "      <td>...</td>\n",
       "      <td>NaN</td>\n",
       "      <td>Unknown</td>\n",
       "      <td>NaN</td>\n",
       "      <td>NaN</td>\n",
       "      <td>0</td>\n",
       "      <td>0</td>\n",
       "      <td>NaN</td>\n",
       "      <td>Instagram Comment</td>\n",
       "      <td>[Auto Import]</td>\n",
       "      <td>NaN</td>\n",
       "    </tr>\n",
       "    <tr>\n",
       "      <th>4</th>\n",
       "      <td>INSTAGRAM_311_17862143450920874</td>\n",
       "      <td>INSTAGRAM</td>\n",
       "      <td>myjdproductions</td>\n",
       "      <td>myjdproductions</td>\n",
       "      <td>myjdproductions</td>\n",
       "      <td>NaN</td>\n",
       "      <td>https://instagram.com/myjdproductions</td>\n",
       "      <td>0</td>\n",
       "      <td>0</td>\n",
       "      <td>0</td>\n",
       "      <td>...</td>\n",
       "      <td>NaN</td>\n",
       "      <td>Unknown</td>\n",
       "      <td>NaN</td>\n",
       "      <td>NaN</td>\n",
       "      <td>0</td>\n",
       "      <td>0</td>\n",
       "      <td>NaN</td>\n",
       "      <td>Instagram Tagged Media</td>\n",
       "      <td>NaN</td>\n",
       "      <td>NaN</td>\n",
       "    </tr>\n",
       "  </tbody>\n",
       "</table>\n",
       "<p>5 rows × 118 columns</p>\n",
       "</div>"
      ],
      "text/plain": [
       "                UniversalMessageId SocialNetwork         SenderUserId   \n",
       "0  INSTAGRAM_303_17965435721459435     INSTAGRAM     8743773905664507  \\\n",
       "1  INSTAGRAM_311_18046773556425994     INSTAGRAM    blacksuccesstoday   \n",
       "2  INSTAGRAM_303_17996040949705738     INSTAGRAM  ballersgetcontracts   \n",
       "3   INSTAGRAM_37_18014653372523350     INSTAGRAM               _cala1   \n",
       "4  INSTAGRAM_311_17862143450920874     INSTAGRAM      myjdproductions   \n",
       "\n",
       "      SenderScreenName           SenderListedName   \n",
       "0    2reallmr214iamdat         2REALL Mr214IAmDat  \\\n",
       "1    blacksuccesstoday        Positive Black News   \n",
       "2  ballersgetcontracts  Ballers Get Contracts 📝📝📝   \n",
       "3               _cala1                        NaN   \n",
       "4      myjdproductions            myjdproductions   \n",
       "\n",
       "                                 SenderProfileImgUrl   \n",
       "0  https://scontent-lga3-2.cdninstagram.com/v/t51...  \\\n",
       "1  https://scontent-iad3-1.cdninstagram.com/v/t51...   \n",
       "2  https://scontent-iad3-1.cdninstagram.com/v/t51...   \n",
       "3                                                NaN   \n",
       "4                                                NaN   \n",
       "\n",
       "                           SenderProfileLink Sender Followers Count   \n",
       "0    https://instagram.com/2reallmr214iamdat                  10508  \\\n",
       "1    https://instagram.com/blacksuccesstoday                 197180   \n",
       "2  https://instagram.com/ballersgetcontracts                  24480   \n",
       "3               https://instagram.com/_cala1                      0   \n",
       "4      https://instagram.com/myjdproductions                      0   \n",
       "\n",
       "  SenderInfluencerScore SenderAge  ... Location  Country State City Latitude   \n",
       "0                     0         0  ...      NaN  Unknown   NaN  NaN        0  \\\n",
       "1                    64         0  ...      NaN  Unknown   NaN  NaN        0   \n",
       "2                     0         0  ...      NaN  Unknown   NaN  NaN        0   \n",
       "3                     0         0  ...      NaN  Unknown   NaN  NaN        0   \n",
       "4                     0         0  ...      NaN  Unknown   NaN  NaN        0   \n",
       "\n",
       "  Longitude Sender Email            Message Type   CampaignName   \n",
       "0         0          NaN       Instagram Mention            NaN  \\\n",
       "1         0          NaN  Instagram Tagged Media            NaN   \n",
       "2         0          NaN       Instagram Mention            NaN   \n",
       "3         0          NaN       Instagram Comment  [Auto Import]   \n",
       "4         0          NaN  Instagram Tagged Media            NaN   \n",
       "\n",
       "  Product Insights - 1  \n",
       "0                  NaN  \n",
       "1                  NaN  \n",
       "2                  NaN  \n",
       "3                  NaN  \n",
       "4                  NaN  \n",
       "\n",
       "[5 rows x 118 columns]"
      ]
     },
     "execution_count": 58,
     "metadata": {},
     "output_type": "execute_result"
    }
   ],
   "source": [
    "# Make the first row as the header\n",
    "df.columns = df.iloc[0].tolist()\n",
    "\n",
    "# Remove the first row and reset the index\n",
    "df = df.iloc[1:].reset_index(drop=True)\n",
    "\n",
    "# Print the first 5 rows of the dataframe\n",
    "df.head()"
   ]
  },
  {
   "cell_type": "code",
   "execution_count": 59,
   "metadata": {},
   "outputs": [
    {
     "data": {
      "text/plain": [
       "Index(['UniversalMessageId', 'SocialNetwork', 'SenderUserId',\n",
       "       'SenderScreenName', 'SenderListedName', 'SenderProfileImgUrl',\n",
       "       'SenderProfileLink', 'Sender Followers Count', 'SenderInfluencerScore',\n",
       "       'SenderAge', 'Message', 'MessageType', 'CreatedTime', 'Language',\n",
       "       'LanguageCode', 'CountryCode', 'MediaTypeList', 'Permalink', 'Domain',\n",
       "       'Retweets', 'Favorites', 'ReceiverId', 'ReceiverScreenName', 'Spam',\n",
       "       'Sentiment', 'Applied Themes', 'PartnerQueues', 'PartnerCustomProps',\n",
       "       'Action Time', 'Theme Matches', 'Priority', 'Inbound Message Priority',\n",
       "       'Channels', 'Languages', 'Post Id', 'ConversationId',\n",
       "       'ParentUniversalMessageId', 'Country', 'Latitude', 'Longitude',\n",
       "       'Message Type', 'CampaignName', 'Product Insights - 1'],\n",
       "      dtype='object')"
      ]
     },
     "execution_count": 59,
     "metadata": {},
     "output_type": "execute_result"
    }
   ],
   "source": [
    "# Remove any columns that have all null values\n",
    "df = df.dropna(axis=1, how='all')\n",
    "df.columns"
   ]
  },
  {
   "cell_type": "code",
   "execution_count": 60,
   "metadata": {},
   "outputs": [],
   "source": [
    "# For Message Type - Instagram Comment Mention, Comment Mention - let's look at the column - Message and extract any handles with @ and put them in a different column\n",
    "df['Mentioned Authors'] = df['Message'].str.findall(r'@.*?(?=\\s|$)')\n",
    "df['Mentioned Authors'] = df['Mentioned Authors'].apply(lambda x: ','.join(map(str, x)))\n",
    "df['Mentioned Authors'] = df['Mentioned Authors'].str.replace('@', '')\n",
    "df['Mentioned Authors'] = df['Mentioned Authors'].str.replace(' ', '')\n",
    "df['Mentioned Authors'] = df['Mentioned Authors'].str.replace(',', ', ')\n",
    "df['Mentioned Authors'] = df['Mentioned Authors'].str.replace(',,', ',')\n",
    "\n"
   ]
  },
  {
   "cell_type": "code",
   "execution_count": 62,
   "metadata": {},
   "outputs": [
    {
     "data": {
      "text/plain": [
       "Mentioned Authors\n",
       "                                                                                                                            177\n",
       "underarmour                                                                                                                  35\n",
       "ucantknockthahustle                                                                                                           2\n",
       "piistolwaves                                                                                                                  1\n",
       "unitedballettheatre, kobebryant, nba, espn, espncollegehoopz, basketball, nike, underarmour, shaq                             1\n",
       "sagu_baseball, mlb, espn, underarmour, underarmor__baseball                                                                   1\n",
       "underarmour, bet__with_the_solid_payout1                                                                                      1\n",
       "cory_mckeever14                                                                                                               1\n",
       "chandra__dam                                                                                                                  1\n",
       "gmail.com                                                                                                                     1\n",
       "marquetteking                                                                                                                 1\n",
       "xfl, usflonfox, espn, therock, underarmour, usflgamblers, usflshop, sportscenter, metahype_tx                                 1\n",
       "badgalriri, wwe, espn, cnn, jlo, migo, future, underarmour, bangenergy                                                        1\n",
       "badgalriri, cnn, cube_ptg, whitehouse, espn, underarmour, nike                                                                1\n",
       "underarmour, underarmourwomen, uabasketball, currybrand, caitlinclark22's, stephencurry30's                                   1\n",
       "currybrand, underarmour                                                                                                       1\n",
       "stephencurry30, underarmour                                                                                                   1\n",
       "cam.price01                                                                                                                   1\n",
       "rodfromthe16                                                                                                                  1\n",
       "adidas, puma, champion, underarmour, Gatorade, sportsillustrated, collegegameday, kingjames, naturbanleague, datelinenbc      1\n",
       "art.by.shalina                                                                                                                1\n",
       "the                                                                                                                           1\n",
       "Name: count, dtype: int64"
      ]
     },
     "execution_count": 62,
     "metadata": {},
     "output_type": "execute_result"
    }
   ],
   "source": [
    "# How many values are in the 'Mentioned Authors' column?\n",
    "df['Mentioned Authors'].value_counts()"
   ]
  },
  {
   "cell_type": "code",
   "execution_count": 63,
   "metadata": {},
   "outputs": [
    {
     "data": {
      "text/plain": [
       "Message Type\n",
       "Instagram Mention                    88\n",
       "Instagram Comment                    67\n",
       "Instagram Tagged Media               51\n",
       "Instagram Post                       11\n",
       "Instagram Mentioned Comment Posts    10\n",
       "Instagram Comment Mention             6\n",
       "Name: count, dtype: int64"
      ]
     },
     "execution_count": 63,
     "metadata": {},
     "output_type": "execute_result"
    }
   ],
   "source": [
    "# What is the count of values in Message Type?\n",
    "df['Message Type'].value_counts()"
   ]
  },
  {
   "cell_type": "code",
   "execution_count": 65,
   "metadata": {},
   "outputs": [
    {
     "data": {
      "text/plain": [
       "Mentioned Authors\n",
       "[]                                                                                                    177\n",
       "[underarmour]                                                                                          35\n",
       "[espn]                                                                                                  4\n",
       "[ucantknockthahustle]                                                                                   2\n",
       "[piistolwaves]                                                                                          1\n",
       "[underarmour,  bet__with_the_solid_payout1]                                                             1\n",
       "[cory_mckeever14]                                                                                       1\n",
       "[chandra__dam]                                                                                          1\n",
       "[gmail.com]                                                                                             1\n",
       "[marquetteking]                                                                                         1\n",
       "[sportscenter]                                                                                          1\n",
       "[underarmour,  underarmourwomen,  uabasketball,  currybrand,  caitlinclark22's,  stephencurry30's]      1\n",
       "[currybrand,  underarmour]                                                                              1\n",
       "[stephencurry30,  underarmour]                                                                          1\n",
       "[cam.price01]                                                                                           1\n",
       "[rodfromthe16]                                                                                          1\n",
       "[collegegameday]                                                                                        1\n",
       "[art.by.shalina]                                                                                        1\n",
       "[the]                                                                                                   1\n",
       "Name: count, dtype: int64"
      ]
     },
     "execution_count": 65,
     "metadata": {},
     "output_type": "execute_result"
    }
   ],
   "source": [
    "# Add any name from \"Receiver Screen Name\" to the \"Mentioned Authors\" column if the \"Message Type\" is \"Instagram Comment Mention\" or \"Comment Mention\"\n",
    "df.loc[(df['Message Type'] == 'Instagram Comment Mention') | (df['Message Type'] == 'Comment Mention'), 'Mentioned Authors'] = df['ReceiverScreenName']\n",
    "\n",
    "# Convert the \"Mentioned Authors\" column to a list\n",
    "df['Mentioned Authors'] = df['Mentioned Authors'].str.split(',')\n",
    "\n",
    "# Remove any duplicate values within each list on a row in the \"Mentioned Authors\" column\n",
    "df['Mentioned Authors'] = df['Mentioned Authors'].apply(lambda x: list(dict.fromkeys(x)))\n",
    "\n",
    "# How many values are in the 'Mentioned Authors' column?\n",
    "df['Mentioned Authors'].value_counts()"
   ]
  }
 ],
 "metadata": {
  "kernelspec": {
   "display_name": "Python 3",
   "language": "python",
   "name": "python3"
  },
  "language_info": {
   "codemirror_mode": {
    "name": "ipython",
    "version": 3
   },
   "file_extension": ".py",
   "mimetype": "text/x-python",
   "name": "python",
   "nbconvert_exporter": "python",
   "pygments_lexer": "ipython3",
   "version": "3.11.2"
  },
  "orig_nbformat": 4,
  "vscode": {
   "interpreter": {
    "hash": "b0fa6594d8f4cbf19f97940f81e996739fb7646882a419484c72d19e05852a7e"
   }
  }
 },
 "nbformat": 4,
 "nbformat_minor": 2
}
